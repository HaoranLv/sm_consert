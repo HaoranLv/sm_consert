{
 "cells": [
  {
   "cell_type": "code",
   "execution_count": 1,
   "id": "0e8a0456",
   "metadata": {},
   "outputs": [],
   "source": [
    "import jsonlines\n",
    "import json\n",
    "#' '.join([' ' if i =='\\n' else i for i in obj['tokens']])"
   ]
  },
  {
   "cell_type": "code",
   "execution_count": 6,
   "id": "a56d8348",
   "metadata": {},
   "outputs": [],
   "source": [
    "inp='dev'\n",
    "RES=[]\n",
    "def get_unsup_textv1(data_path):\n",
    "    res=[]\n",
    "    with jsonlines.open(data_path) as reader:\n",
    "        for obj in reader:\n",
    "            res.append(obj['text'])\n",
    "    return res\n",
    "def get_unsup_textv2(data_path):\n",
    "    res=[]\n",
    "    with jsonlines.open(data_path) as reader:\n",
    "        for obj in reader:\n",
    "            res.append(' '.join([' ' if i =='\\n' else i for i in obj['tokens']]))\n",
    "    return res\n",
    "data_path=['/home/ec2-user/SageMaker/Shulex/场景抽取/shulexv0/dev.jsonl', '/home/ec2-user/SageMaker/Shulex/场景抽取/shulexv0/train.jsonl','/home/ec2-user/SageMaker/Shulex/场景抽取/shulexv1/dev.jsonl', '/home/ec2-user/SageMaker/Shulex/场景抽取/shulexv1/train.jsonl']\n",
    "for p in data_path:\n",
    "    RES.extend(get_unsup_textv2(p))\n",
    "RES.extend(get_unsup_textv1('sample_spans.jsonl'))"
   ]
  },
  {
   "cell_type": "code",
   "execution_count": 7,
   "id": "a231933a",
   "metadata": {},
   "outputs": [
    {
     "data": {
      "text/plain": [
       "326728"
      ]
     },
     "execution_count": 7,
     "metadata": {},
     "output_type": "execute_result"
    }
   ],
   "source": [
    "len(RES)"
   ]
  },
  {
   "cell_type": "code",
   "execution_count": 8,
   "id": "0830c559",
   "metadata": {},
   "outputs": [],
   "source": [
    "import pandas as pd\n",
    "\n",
    "pair=[]\n",
    "for i in range(len(RES)//2):\n",
    "    pair.append(\"0\"+\"\\t\"+RES[2*i]+\"\\t\"+RES[(2*i)+1])\n",
    "df=pd.DataFrame(pair)"
   ]
  },
  {
   "cell_type": "code",
   "execution_count": 9,
   "id": "95ea6860",
   "metadata": {},
   "outputs": [],
   "source": [
    "df.to_csv('./shulex_unsupv2.csv',index=False, header=0)"
   ]
  },
  {
   "cell_type": "code",
   "execution_count": 4,
   "id": "928fad98",
   "metadata": {},
   "outputs": [
    {
     "data": {
      "text/plain": [
       "309478"
      ]
     },
     "execution_count": 4,
     "metadata": {},
     "output_type": "execute_result"
    }
   ],
   "source": [
    "with jsonlines.open('sample_spans.jsonl') as reader:\n",
    "    i=0\n",
    "    for obj in reader:\n",
    "        i+=1\n",
    "i"
   ]
  }
 ],
 "metadata": {
  "kernelspec": {
   "display_name": "conda_pytorch_p38",
   "language": "python",
   "name": "conda_pytorch_p38"
  },
  "language_info": {
   "codemirror_mode": {
    "name": "ipython",
    "version": 3
   },
   "file_extension": ".py",
   "mimetype": "text/x-python",
   "name": "python",
   "nbconvert_exporter": "python",
   "pygments_lexer": "ipython3",
   "version": "3.8.12"
  }
 },
 "nbformat": 4,
 "nbformat_minor": 5
}
